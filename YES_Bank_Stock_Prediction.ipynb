{
  "nbformat": 4,
  "nbformat_minor": 0,
  "metadata": {
    "colab": {
      "private_outputs": true,
      "provenance": [],
      "collapsed_sections": [
        "MSa1f5Uengrz",
        "448CDAPjqfQr",
        "y-Ehk30pYrdP"
      ]
    },
    "kernelspec": {
      "name": "python3",
      "display_name": "Python 3"
    },
    "language_info": {
      "name": "python"
    }
  },
  "cells": [
    {
      "cell_type": "markdown",
      "source": [
        "![yes-bank-logo-india-260nw-2351724619.webp](data:image/webp;base64,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)    -\n",
        "\n"
      ],
      "metadata": {
        "id": "vncDsAP0Gaoa"
      }
    },
    {
      "cell_type": "markdown",
      "source": [
        "##### **Project Type**    - Regression\n",
        "##### **Contribution**    - Individual(SANA FATIMA)\n"
      ],
      "metadata": {
        "id": "beRrZCGUAJYm"
      }
    },
    {
      "cell_type": "markdown",
      "source": [
        "# **Project Summary -**"
      ],
      "metadata": {
        "id": "FJNUwmbgGyua"
      }
    },
    {
      "cell_type": "markdown",
      "source": [
        "Yes Bank is a banking company that was founded in 2004 that offers a wide range of differentiated products for its corporate and retail customers through retail banking and asset management services. It is also a publically traded company. That provides an opportunity for anyone to invest in Yes bank and become a shareholder. But at the same time, it means that the valuation of the company is now in the hands of investors and speculators as share prices are often heavily impacted by public opinion. We have used yes bank stock price data set. This dataset contains 5 different features that can be used for predicting close price prediction using machine learning. We have built machine learning regression model for price prediction. We have used some of best models."
      ],
      "metadata": {
        "id": "F6v_1wHtG2nS"
      }
    },
    {
      "cell_type": "markdown",
      "source": [
        "# **GitHub Link -**"
      ],
      "metadata": {
        "id": "w6K7xa23Elo4"
      }
    },
    {
      "cell_type": "markdown",
      "source": [
        "Provide your GitHub Link here."
      ],
      "metadata": {
        "id": "h1o69JH3Eqqn"
      }
    },
    {
      "cell_type": "markdown",
      "source": [
        "# **Problem Statement**\n"
      ],
      "metadata": {
        "id": "yQaldy8SH6Dl"
      }
    },
    {
      "cell_type": "markdown",
      "source": [
        "\n",
        "Yes Bank is a well-known bank in the Indian financial domain. Since 2018, it has been in the news because of the fraud case involving Rana Kapoor. Owing to this fact, it was interesting to see how that impacted the stock prices of the company and whether Time series models or any other predictive models can do justice to such situations. This dataset has monthly stock prices of the bank since its inception and includes closing, starting, highest, and lowest stock prices of every month."
      ],
      "metadata": {
        "id": "DpeJGUA3kjGy"
      }
    },
    {
      "cell_type": "markdown",
      "source": [
        "# **General Guidelines** : -  "
      ],
      "metadata": {
        "id": "mDgbUHAGgjLW"
      }
    },
    {
      "cell_type": "markdown",
      "source": [
        "1.   Well-structured, formatted, and commented code is required.\n",
        "2.   Exception Handling, Production Grade Code & Deployment Ready Code will be a plus. Those students will be awarded some additional credits.\n",
        "     \n",
        "     The additional credits will have advantages over other students during Star Student selection.\n",
        "       \n",
        "             [ Note: - Deployment Ready Code is defined as, the whole .ipynb notebook should be executable in one go\n",
        "                       without a single error logged. ]\n",
        "\n",
        "3.   Each and every logic should have proper comments.\n",
        "4. You may add as many number of charts you want. Make Sure for each and every chart the following format should be answered.\n",
        "        \n",
        "\n",
        "```\n",
        "# Chart visualization code\n",
        "```\n",
        "            \n",
        "\n",
        "*   Why did you pick the specific chart?\n",
        "*   What is/are the insight(s) found from the chart?\n",
        "* Will the gained insights help creating a positive business impact?\n",
        "Are there any insights that lead to negative growth? Justify with specific reason.\n",
        "\n",
        "5. You have to create at least 15 logical & meaningful charts having important insights.\n",
        "\n",
        "\n",
        "[ Hints : - Do the Vizualization in  a structured way while following \"UBM\" Rule.\n",
        "\n",
        "U - Univariate Analysis,\n",
        "\n",
        "B - Bivariate Analysis (Numerical - Categorical, Numerical - Numerical, Categorical - Categorical)\n",
        "\n",
        "M - Multivariate Analysis\n",
        " ]\n",
        "\n",
        "\n",
        "\n",
        "\n",
        "\n",
        "6. You may add more ml algorithms for model creation. Make sure for each and every algorithm, the following format should be answered.\n",
        "\n",
        "\n",
        "*   Explain the ML Model used and it's performance using Evaluation metric Score Chart.\n",
        "\n",
        "\n",
        "*   Cross- Validation & Hyperparameter Tuning\n",
        "\n",
        "*   Have you seen any improvement? Note down the improvement with updates Evaluation metric Score Chart.\n",
        "\n",
        "*   Explain each evaluation metric's indication towards business and the business impact pf the ML model used.\n",
        "\n",
        "\n",
        "\n",
        "\n",
        "\n",
        "\n",
        "\n",
        "\n",
        "\n",
        "\n",
        "\n",
        "\n",
        "\n",
        "\n",
        "\n",
        "\n",
        "\n",
        "\n"
      ],
      "metadata": {
        "id": "ZrxVaUj-hHfC"
      }
    },
    {
      "cell_type": "markdown",
      "source": [
        "# ***Let's Begin !***"
      ],
      "metadata": {
        "id": "O_i_v8NEhb9l"
      }
    },
    {
      "cell_type": "markdown",
      "source": [
        "## ***1. Know Your Data***"
      ],
      "metadata": {
        "id": "HhfV-JJviCcP"
      }
    },
    {
      "cell_type": "markdown",
      "source": [
        "### Import Libraries"
      ],
      "metadata": {
        "id": "Y3lxredqlCYt"
      }
    },
    {
      "cell_type": "code",
      "source": [
        "# Import Libraries\n",
        "import pandas as pd\n",
        "import numpy as np\n",
        "import matplotlib.pyplot as plt\n",
        "import seaborn as sns\n",
        "\n",
        "from numpy import math\n",
        "from datetime import datetime\n",
        "from sklearn.preprocessing import StandardScaler\n",
        "from sklearn.model_selection import train_test_split\n",
        "from sklearn.linear_model import LinearRegression\n",
        "from sklearn.neighbors import KNeighborsRegressor\n",
        "from sklearn.ensemble import RandomForestRegressor\n",
        "from sklearn.linear_model import Ridge,Lasso,ElasticNet\n",
        "from sklearn.preprocessing import PowerTransformer\n",
        "from sklearn.model_selection import GridSearchCV\n",
        "from sklearn.metrics import (r2_score,\n",
        "mean_squared_error,  mean_absolute_percentage_error,\n",
        "mean_absolute_error)\n",
        "from sklearn import metrics\n",
        "\n"
      ],
      "metadata": {
        "id": "M8Vqi-pPk-HR"
      },
      "execution_count": null,
      "outputs": []
    },
    {
      "cell_type": "markdown",
      "source": [
        "### Dataset Loading"
      ],
      "metadata": {
        "id": "3RnN4peoiCZX"
      }
    },
    {
      "cell_type": "code",
      "source": [
        "# Load Dataset\n",
        "df=pd.read_csv(\"/content/Copy of data_YesBank_StockPrices.csv\")"
      ],
      "metadata": {
        "id": "4CkvbW_SlZ_R"
      },
      "execution_count": null,
      "outputs": []
    },
    {
      "cell_type": "markdown",
      "source": [
        "### Dataset First View"
      ],
      "metadata": {
        "id": "x71ZqKXriCWQ"
      }
    },
    {
      "cell_type": "code",
      "source": [
        "# Dataset First Look\n",
        "df.head()"
      ],
      "metadata": {
        "id": "LWNFOSvLl09H"
      },
      "execution_count": null,
      "outputs": []
    },
    {
      "cell_type": "markdown",
      "source": [
        "### Dataset Rows & Columns count"
      ],
      "metadata": {
        "id": "7hBIi_osiCS2"
      }
    },
    {
      "cell_type": "code",
      "source": [
        "# Dataset Rows & Columns count\n",
        "df.shape"
      ],
      "metadata": {
        "id": "Kllu7SJgmLij"
      },
      "execution_count": null,
      "outputs": []
    },
    {
      "cell_type": "markdown",
      "source": [
        "There are 185 rows and 5 columns in the dataset.\n",
        "\n",
        "\n",
        "\n"
      ],
      "metadata": {
        "id": "MWDs56QbSZMc"
      }
    },
    {
      "cell_type": "markdown",
      "source": [
        "### Dataset Information"
      ],
      "metadata": {
        "id": "JlHwYmJAmNHm"
      }
    },
    {
      "cell_type": "code",
      "source": [
        "# Dataset Info\n",
        "df.info()"
      ],
      "metadata": {
        "id": "e9hRXRi6meOf"
      },
      "execution_count": null,
      "outputs": []
    },
    {
      "cell_type": "markdown",
      "source": [
        "This dataset contains 4 columns with floating-point values and 1 column with object values."
      ],
      "metadata": {
        "id": "6fZJ8ECrS8qr"
      }
    },
    {
      "cell_type": "markdown",
      "source": [
        "#### Duplicate Values"
      ],
      "metadata": {
        "id": "35m5QtbWiB9F"
      }
    },
    {
      "cell_type": "code",
      "source": [
        "# Dataset Duplicate Value Count\n",
        "len(df[df.duplicated()])"
      ],
      "metadata": {
        "id": "1sLdpKYkmox0"
      },
      "execution_count": null,
      "outputs": []
    },
    {
      "cell_type": "markdown",
      "source": [
        "This dataset does not contain any duplicate values."
      ],
      "metadata": {
        "id": "5JqA9T1yTnfe"
      }
    },
    {
      "cell_type": "markdown",
      "source": [
        "#### Missing Values/Null Values"
      ],
      "metadata": {
        "id": "PoPl-ycgm1ru"
      }
    },
    {
      "cell_type": "code",
      "source": [
        "# Missing Values/Null Values Count\n",
        "df.isnull()"
      ],
      "metadata": {
        "id": "GgHWkxvamxVg"
      },
      "execution_count": null,
      "outputs": []
    },
    {
      "cell_type": "markdown",
      "source": [
        "This dataset does not contain any Missing values."
      ],
      "metadata": {
        "id": "vNDHHOK6Uada"
      }
    },
    {
      "cell_type": "code",
      "source": [
        "# Visualizing the missing values\n",
        "df.isnull().sum()"
      ],
      "metadata": {
        "id": "3q5wnI3om9sJ"
      },
      "execution_count": null,
      "outputs": []
    },
    {
      "cell_type": "markdown",
      "source": [
        "This dataset does not have any missing values to visualize."
      ],
      "metadata": {
        "id": "xoYuRAqVUjjG"
      }
    },
    {
      "cell_type": "markdown",
      "source": [
        "### What did you know about your dataset?"
      ],
      "metadata": {
        "id": "H0kj-8xxnORC"
      }
    },
    {
      "cell_type": "markdown",
      "source": [
        "According to the analysis above, the dataset comprises 5 columns and 185 rows. where just one column is in float format and the others are formatted as dates. This data does not contain any Null values and duplicate rows."
      ],
      "metadata": {
        "id": "gfoNAAC-nUe_"
      }
    },
    {
      "cell_type": "markdown",
      "source": [
        "## ***2. Understanding Your Variables***"
      ],
      "metadata": {
        "id": "nA9Y7ga8ng1Z"
      }
    },
    {
      "cell_type": "code",
      "source": [
        "# Dataset Columns\n",
        "df.columns"
      ],
      "metadata": {
        "id": "j7xfkqrt5Ag5"
      },
      "execution_count": null,
      "outputs": []
    },
    {
      "cell_type": "code",
      "source": [
        "# Dataset Describe\n",
        "df.describe()"
      ],
      "metadata": {
        "id": "DnOaZdaE5Q5t"
      },
      "execution_count": null,
      "outputs": []
    },
    {
      "cell_type": "markdown",
      "source": [
        "### Variables Description"
      ],
      "metadata": {
        "id": "PBTbrJXOngz2"
      }
    },
    {
      "cell_type": "markdown",
      "source": [
        "There are 5 variable in data as follows:\n",
        "\n",
        "Independent Variable\n",
        "\n",
        "Date : It has Month and Year.\n",
        "Open : Opening stock price for respective Month.\n",
        "High : Highest sotck price for respective Month.\n",
        "Low : Lowest stock price for respective Month.\n",
        "\n",
        "\n",
        "Dependent Variable\n",
        "\n",
        "Close : Closing price of Stock for respective Month"
      ],
      "metadata": {
        "id": "aJV4KIxSnxay"
      }
    },
    {
      "cell_type": "markdown",
      "source": [
        "### Check Unique Values for each variable."
      ],
      "metadata": {
        "id": "u3PMJOP6ngxN"
      }
    },
    {
      "cell_type": "code",
      "source": [
        "# Check Unique Values for each variable.\n",
        "df.nunique()"
      ],
      "metadata": {
        "id": "zms12Yq5n-jE"
      },
      "execution_count": null,
      "outputs": []
    },
    {
      "cell_type": "markdown",
      "source": [
        "## 3. ***Data Wrangling***"
      ],
      "metadata": {
        "id": "dauF4eBmngu3"
      }
    },
    {
      "cell_type": "markdown",
      "source": [
        "### Data Wrangling Code"
      ],
      "metadata": {
        "id": "bKJF3rekwFvQ"
      }
    },
    {
      "cell_type": "code",
      "source": [
        "import datetime\n",
        "\n",
        "now = datetime.datetime.now()\n",
        "date_string = now.strftime(\"%Y%m%d%H%M%S\")\n",
        "date_int = int(date_string)\n",
        "print(date_int)"
      ],
      "metadata": {
        "id": "svDf48AqbLJP"
      },
      "execution_count": null,
      "outputs": []
    },
    {
      "cell_type": "code",
      "source": [
        "# Write your code to make your dataset analysis ready.\n",
        "# Converting Date column from object format to integer\n",
        "df['Date'] = pd.to_datetime(df['Date'], format='%b-%d', errors='coerce')\n",
        "df['Date'] = df['Date'].map(datetime.datetime.toordinal)"
      ],
      "metadata": {
        "id": "wk-9a2fpoLcV"
      },
      "execution_count": null,
      "outputs": []
    },
    {
      "cell_type": "code",
      "source": [
        "df"
      ],
      "metadata": {
        "id": "iPTRzl7ZYNae"
      },
      "execution_count": null,
      "outputs": []
    },
    {
      "cell_type": "code",
      "source": [
        "df.info()"
      ],
      "metadata": {
        "id": "vwKOfIlMcU3e"
      },
      "execution_count": null,
      "outputs": []
    },
    {
      "cell_type": "markdown",
      "source": [
        "### What all manipulations have you done and insights you found?"
      ],
      "metadata": {
        "id": "MSa1f5Uengrz"
      }
    },
    {
      "cell_type": "markdown",
      "source": [
        "The Date column was converted to date format using the Datetime library, and the rest of the dataset is clean."
      ],
      "metadata": {
        "id": "LbyXE7I1olp8"
      }
    },
    {
      "cell_type": "markdown",
      "source": [
        "## ***4. Data Vizualization, Storytelling & Experimenting with charts : Understand the relationships between variables***"
      ],
      "metadata": {
        "id": "GF8Ens_Soomf"
      }
    },
    {
      "cell_type": "markdown",
      "source": [
        "#### Chart - 1"
      ],
      "metadata": {
        "id": "0wOQAZs5pc--"
      }
    },
    {
      "cell_type": "code",
      "source": [
        "# Chart - 1 visualization code\n",
        "# Here Using Plotly library to visulised data\n",
        "import plotly.express as px\n",
        "fig=px.line(df,x='Date',y='Close',title='Stock Price',markers=\"0\")\n",
        "fig.show()\n"
      ],
      "metadata": {
        "id": "7v_ESjsspbW7"
      },
      "execution_count": null,
      "outputs": []
    },
    {
      "cell_type": "code",
      "source": [
        "import plotly.express as px\n",
        "fig=px.bar(df,x='Date',y='Open',title='Stock Price')\n",
        "fig.show()"
      ],
      "metadata": {
        "id": "IUrGzny9dZ8k"
      },
      "execution_count": null,
      "outputs": []
    },
    {
      "cell_type": "code",
      "source": [
        "fig=px.scatter(df,x='Date',y='High',title='Stock Price')\n",
        "fig.show()"
      ],
      "metadata": {
        "id": "vI1JuSDcdxgs"
      },
      "execution_count": null,
      "outputs": []
    },
    {
      "cell_type": "code",
      "source": [
        "fig=px.pie(df,values='Low',names='Date',title='stock Price')\n",
        "fig.show()"
      ],
      "metadata": {
        "id": "Y0iiDppHeHJO"
      },
      "execution_count": null,
      "outputs": []
    },
    {
      "cell_type": "markdown",
      "source": [
        "The Plotly pie chart is not showing clear results, so I am using a line plot with the same data columns instead"
      ],
      "metadata": {
        "id": "cKOKZ1MYfA8o"
      }
    },
    {
      "cell_type": "code",
      "source": [
        "fig=px.line(df,x='Date',y='Low',title='Stock Price',markers='*',color_discrete_sequence=['green'])\n",
        "fig.show()"
      ],
      "metadata": {
        "id": "KDd7g2ZJfofN"
      },
      "execution_count": null,
      "outputs": []
    },
    {
      "cell_type": "markdown",
      "source": [
        "##### 1. Why did you pick the specific chart?"
      ],
      "metadata": {
        "id": "K5QZ13OEpz2H"
      }
    },
    {
      "cell_type": "markdown",
      "source": [
        "Plotly provides interactive and customizable visualizations that enhance data exploration and presentation."
      ],
      "metadata": {
        "id": "XESiWehPqBRc"
      }
    },
    {
      "cell_type": "markdown",
      "source": [
        "##### 2. What is/are the insight(s) found from the chart?"
      ],
      "metadata": {
        "id": "lQ7QKXXCp7Bj"
      }
    },
    {
      "cell_type": "markdown",
      "source": [
        "I used Plotly for visualization, working with different columns and various chart types (line, bar, scatter, pie). However, the pie chart did not provide clear results, so I am using a line graph with the same data column for better insights."
      ],
      "metadata": {
        "id": "C_j1G7yiqdRP"
      }
    },
    {
      "cell_type": "markdown",
      "source": [
        "##### 3. Will the gained insights help creating a positive business impact?\n",
        "Are there any insights that lead to negative growth? Justify with specific reason."
      ],
      "metadata": {
        "id": "448CDAPjqfQr"
      }
    },
    {
      "cell_type": "markdown",
      "source": [
        "These insights are based on the understanding that stock prices are generally reflective of a company's financial health and prospects. By visualizing the 'Low' stock price over time, businesses can gain a clearer picture of these factors and make decisions accordingly."
      ],
      "metadata": {
        "id": "3cspy4FjqxJW"
      }
    },
    {
      "cell_type": "markdown",
      "source": [
        "#### Chart - 2"
      ],
      "metadata": {
        "id": "KSlN3yHqYklG"
      }
    },
    {
      "cell_type": "code",
      "source": [
        "# Chart - 2 visualization code\n",
        "# Using Seaborn Libarary\n",
        "import seaborn as sns\n",
        "sns.pairplot(df)\n",
        "plt.show()"
      ],
      "metadata": {
        "id": "R4YgtaqtYklH"
      },
      "execution_count": null,
      "outputs": []
    },
    {
      "cell_type": "markdown",
      "source": [
        "##### 1. Why did you pick the specific chart?"
      ],
      "metadata": {
        "id": "t6dVpIINYklI"
      }
    },
    {
      "cell_type": "markdown",
      "source": [
        "Seaborn's lineplot is a suitable choice for visualizing the \"Low\" stock price over time because it clearly displays trends, handles data aggregation, offers customization options, and integrates well with Pandas DataFrames. This makes it a powerful tool for gaining insights into stock price movements and making informed business decisions."
      ],
      "metadata": {
        "id": "5aaW0BYyYklI"
      }
    },
    {
      "cell_type": "markdown",
      "source": [
        "##### 2. What is/are the insight(s) found from the chart?"
      ],
      "metadata": {
        "id": "ijmpgYnKYklI"
      }
    },
    {
      "cell_type": "markdown",
      "source": [
        "Seaborn pairplots offer a valuable way to visualize relationships and distributions within your stock market data. By carefully examining the scatterplots, histograms, and overall patterns in the plot, you can gain insights into correlations, distributions, outliers, and relationships between different features, ultimately aiding in more informed investment decisions."
      ],
      "metadata": {
        "id": "PSx9atu2YklI"
      }
    },
    {
      "cell_type": "markdown",
      "source": [
        "##### 3. Will the gained insights help creating a positive business impact?\n",
        "Are there any insights that lead to negative growth? Justify with specific reason."
      ],
      "metadata": {
        "id": "-JiQyfWJYklI"
      }
    },
    {
      "cell_type": "markdown",
      "source": [
        "The positive and negative impacts outlined above are based on the understanding that stock market data is complex and influenced by various factors. Pairplots can help uncover valuable insights, but it's crucial to use them in conjunction with other analytical tools and market knowledge to make well-informed decisions."
      ],
      "metadata": {
        "id": "BcBbebzrYklV"
      }
    },
    {
      "cell_type": "markdown",
      "source": [
        "#### Chart - 3"
      ],
      "metadata": {
        "id": "EM7whBJCYoAo"
      }
    },
    {
      "cell_type": "code",
      "source": [
        "# Chart - 3 visualization code\n",
        "# Plotting Histogram for each independent column in Data.\n",
        "for col in df[:-2]:\n",
        "  fig=plt.figure(figsize=(9,6))\n",
        "  ax=fig.gca()\n",
        "  feature=df[col]\n",
        "  feature.hist(bins=35,ax=ax)\n",
        "  ax.axvline(feature.mean(), color='r', linestyle='solid', linewidth=2)\n",
        "  ax.axvline(feature.median(), color='y', linestyle='dashdot', linewidth=2)\n",
        "  ax.set_title(col)\n",
        "plt.show()"
      ],
      "metadata": {
        "id": "t6GMdE67YoAp"
      },
      "execution_count": null,
      "outputs": []
    },
    {
      "cell_type": "markdown",
      "source": [
        "##### 1. Why did you pick the specific chart?"
      ],
      "metadata": {
        "id": "fge-S5ZAYoAp"
      }
    },
    {
      "cell_type": "markdown",
      "source": [
        "Histograms are a valuable tool for visualizing the distribution of stock market data. They provide insights into the range of values, skewness, kurtosis, outliers, and comparisons between distributions. These insights can help investors and analysts understand market behavior, identify potential risks, and make more informed decisions.."
      ],
      "metadata": {
        "id": "5dBItgRVYoAp"
      }
    },
    {
      "cell_type": "markdown",
      "source": [
        "##### 2. What is/are the insight(s) found from the chart?"
      ],
      "metadata": {
        "id": "85gYPyotYoAp"
      }
    },
    {
      "cell_type": "markdown",
      "source": [
        "When applied to stock market data, which typically includes columns like 'Open', 'High', 'Low', 'Close', and 'Volume', a histogram can reveal several key insights about the distribution of these variables:\n",
        "1.Central Tendency\n",
        "2.Spread or Dispersion\n",
        "3.Skewness\n",
        "4.Kurtosis\n",
        "5.Outliers\n"
      ],
      "metadata": {
        "id": "4jstXR6OYoAp"
      }
    },
    {
      "cell_type": "markdown",
      "source": [
        "##### 3. Will the gained insights help creating a positive business impact?\n",
        "Are there any insights that lead to negative growth? Justify with specific reason."
      ],
      "metadata": {
        "id": "RoGjAbkUYoAp"
      }
    },
    {
      "cell_type": "markdown",
      "source": [
        "The positive and negative impacts outlined above are based on the understanding that stock market data is inherently complex and influenced by various factors. Histograms can provide valuable insights, but they should be used in conjunction with other analytical tools and market knowledge to make well-informed decisions."
      ],
      "metadata": {
        "id": "zfJ8IqMcYoAp"
      }
    },
    {
      "cell_type": "markdown",
      "source": [
        "#### Chart - 4"
      ],
      "metadata": {
        "id": "4Of9eVA-YrdM"
      }
    },
    {
      "cell_type": "code",
      "source": [
        "# Chart - 4 visualization code\n",
        "#Heat map for colinearity\n",
        "plt.figure(figsize=(10,5))\n",
        "sns.heatmap(df.corr(),annot=True,cmap='viridis')"
      ],
      "metadata": {
        "id": "irlUoxc8YrdO"
      },
      "execution_count": null,
      "outputs": []
    },
    {
      "cell_type": "markdown",
      "source": [
        "##### 1. Why did you pick the specific chart?"
      ],
      "metadata": {
        "id": "iky9q4vBYrdO"
      }
    },
    {
      "cell_type": "markdown",
      "source": [
        "A heatmap can also be used to identify any potential issues with the data, such as multicollinearity (i.e., high correlation between independent variables).\n"
      ],
      "metadata": {
        "id": "aJRCwT6DYrdO"
      }
    },
    {
      "cell_type": "code",
      "source": [],
      "metadata": {
        "id": "HgFUiCEAsyB3"
      },
      "execution_count": null,
      "outputs": []
    },
    {
      "cell_type": "markdown",
      "source": [
        "##### 2. What is/are the insight(s) found from the chart?"
      ],
      "metadata": {
        "id": "F6T5p64dYrdO"
      }
    },
    {
      "cell_type": "markdown",
      "source": [
        "As from above chart we can see that our data is Multicollinear. Multicollinearity can cause problems for linear regression, because it can lead to overfitting and unreliable coefficient estimates. By identifying variables with high correlations, we can decide whether to remove one of the variables or to use a different ML algorithm that is less sensitive to multicollinearity."
      ],
      "metadata": {
        "id": "Xx8WAJvtYrdO"
      }
    },
    {
      "cell_type": "markdown",
      "source": [
        "##### 3. Will the gained insights help creating a positive business impact?\n",
        "Are there any insights that lead to negative growth? Justify with specific reason."
      ],
      "metadata": {
        "id": "y-Ehk30pYrdP"
      }
    },
    {
      "cell_type": "markdown",
      "source": [
        "yes,it will gain positive gain impact for stock prediction."
      ],
      "metadata": {
        "id": "jLNxxz7MYrdP"
      }
    },
    {
      "cell_type": "markdown",
      "source": [
        "## ***6. Feature Engineering & Data Pre-processing***"
      ],
      "metadata": {
        "id": "yLjJCtPM0KBk"
      }
    },
    {
      "cell_type": "markdown",
      "source": [
        "### 1. Handling Missing Values"
      ],
      "metadata": {
        "id": "xiyOF9F70UgQ"
      }
    },
    {
      "cell_type": "code",
      "source": [
        "# Handling Missing Values & Missing Value Imputation\n",
        "df.head()"
      ],
      "metadata": {
        "id": "iRsAHk1K0fpS"
      },
      "execution_count": null,
      "outputs": []
    },
    {
      "cell_type": "code",
      "source": [],
      "metadata": {
        "id": "mhSQ-4N0oEIv"
      },
      "execution_count": null,
      "outputs": []
    },
    {
      "cell_type": "code",
      "source": [
        "dependent_variable = df['Close']\n",
        "independent_variables = df.drop(columns=['Date'],axis = 1)"
      ],
      "metadata": {
        "id": "ZxpCZbNfuahn"
      },
      "execution_count": null,
      "outputs": []
    },
    {
      "cell_type": "code",
      "source": [
        "dependent_variable"
      ],
      "metadata": {
        "id": "aSo6QXIQwnnx"
      },
      "execution_count": null,
      "outputs": []
    },
    {
      "cell_type": "code",
      "source": [
        "independent_variables"
      ],
      "metadata": {
        "id": "f_ZaMWjkwwLJ"
      },
      "execution_count": null,
      "outputs": []
    },
    {
      "cell_type": "markdown",
      "source": [
        "### 6. Data Scaling"
      ],
      "metadata": {
        "id": "rMDnDkt2B6du"
      }
    },
    {
      "cell_type": "code",
      "source": [
        "# Scaling your data\n",
        "X = independent_variables.values\n",
        "y = dependent_variable.values"
      ],
      "metadata": {
        "id": "dL9LWpySC6x_"
      },
      "execution_count": null,
      "outputs": []
    },
    {
      "cell_type": "code",
      "source": [
        "print(X)"
      ],
      "metadata": {
        "id": "CsrSGEXuxQ6p"
      },
      "execution_count": null,
      "outputs": []
    },
    {
      "cell_type": "code",
      "source": [
        "print(y)"
      ],
      "metadata": {
        "id": "TW_jdTbexTrL"
      },
      "execution_count": null,
      "outputs": []
    },
    {
      "cell_type": "markdown",
      "source": [
        "### 8. Data Splitting"
      ],
      "metadata": {
        "id": "BhH2vgX9EjGr"
      }
    },
    {
      "cell_type": "code",
      "source": [
        "x=df.drop(['Close'],axis=1)\n",
        "y=df['Close']\n"
      ],
      "metadata": {
        "id": "lWYmtJlNtHbv"
      },
      "execution_count": null,
      "outputs": []
    },
    {
      "cell_type": "code",
      "source": [
        "# Split your data to train and test. Choose Splitting ratio wisely.\n",
        "X_train,X_test,y_train,y_test=train_test_split(X,y,test_size=0.2,random_state=0)"
      ],
      "metadata": {
        "id": "0CTyd2UwEyNM"
      },
      "execution_count": null,
      "outputs": []
    },
    {
      "cell_type": "code",
      "source": [
        "X.shape,X_train.shape,X_test.shape"
      ],
      "metadata": {
        "id": "EMnyKjX8ytmX"
      },
      "execution_count": null,
      "outputs": []
    },
    {
      "cell_type": "code",
      "source": [
        "y.shape,y_train.shape,y_test.shape"
      ],
      "metadata": {
        "id": "bSbFsraH4jr0"
      },
      "execution_count": null,
      "outputs": []
    },
    {
      "cell_type": "code",
      "source": [
        "print('features in training dataset:-',X_train.shape)\n",
        "print('target in training dataset:-',y_train.shape)\n",
        "print('features in testing dataset:-',X_test.shape)\n",
        "print('target in testing dataset:-',y_test.shape)"
      ],
      "metadata": {
        "id": "Gm4NvgkT4q82"
      },
      "execution_count": null,
      "outputs": []
    },
    {
      "cell_type": "code",
      "source": [
        "from sklearn.preprocessing import MinMaxScaler\n",
        "scaler = MinMaxScaler()\n",
        "X_train_scaler = scaler.fit_transform(X_train)\n",
        "X_test_scaler = scaler.transform(X_test)"
      ],
      "metadata": {
        "id": "1NDHrw8P5hfT"
      },
      "execution_count": null,
      "outputs": []
    },
    {
      "cell_type": "markdown",
      "source": [
        "## ***7. ML Model Implementation***"
      ],
      "metadata": {
        "id": "VfCC591jGiD4"
      }
    },
    {
      "cell_type": "markdown",
      "source": [
        "### ML Model - 1"
      ],
      "metadata": {
        "id": "OB4l2ZhMeS1U"
      }
    },
    {
      "cell_type": "code",
      "source": [
        "print(x)"
      ],
      "metadata": {
        "id": "Xx3zic2cu0ue"
      },
      "execution_count": null,
      "outputs": []
    },
    {
      "cell_type": "code",
      "source": [
        "# ML Model - 1 Implementation\n",
        "regression = LinearRegression()\n",
        "regression.fit(X_train_scaler, y_train)\n"
      ],
      "metadata": {
        "id": "7ebyywQieS1U"
      },
      "execution_count": null,
      "outputs": []
    },
    {
      "cell_type": "markdown",
      "source": [
        "#### 1. Explain the ML Model used and it's performance using Evaluation metric Score Chart."
      ],
      "metadata": {
        "id": "ArJBuiUVfxKd"
      }
    },
    {
      "cell_type": "code",
      "source": [
        "from sklearn.linear_model import Lasso, Ridge\n",
        "from sklearn.linear_model import LinearRegression\n",
        "from sklearn.tree import DecisionTreeRegressor\n",
        "from sklearn.metrics import r2_score, mean_squared_error,mean_absolute_error,mean_absolute_percentage_error\n",
        "import math\n",
        "from sklearn.ensemble import AdaBoostRegressor\n",
        "from sklearn.ensemble import GradientBoostingRegressor\n",
        "from sklearn.ensemble import RandomForestRegressor\n",
        "from sklearn.preprocessing import StandardScaler,PowerTransformer\n",
        "from sklearn.neighbors import KNeighborsRegressor\n",
        "from sklearn.ensemble import VotingRegressor\n",
        "from xgboost import XGBRegressor\n",
        "from sklearn.model_selection import GridSearchCV, RandomizedSearchCV\n",
        "from sklearn.preprocessing import PolynomialFeatures"
      ],
      "metadata": {
        "id": "ysxE9Chtoik1"
      },
      "execution_count": null,
      "outputs": []
    },
    {
      "cell_type": "code",
      "source": [
        "# Appending all models parameters to the corrosponding list\n",
        "mean_absolut_error = []\n",
        "mean_sq_error=[]\n",
        "root_mean_sq_error=[]\n",
        "training_score =[]\n",
        "r2_list=[]\n",
        "adj_r2_list=[]\n",
        "from sklearn.metrics import mean_squared_error\n",
        "from sklearn.metrics import mean_absolute_error\n",
        "from sklearn.metrics import r2_score\n",
        "\n",
        "\n",
        "def score_metrix (model,X_train,X_test,Y_train,Y_test):\n",
        "\n",
        "  '''\n",
        "    train the model and gives mae, mse,rmse,r2,adj r2 score of the model\n",
        "\n",
        "  '''\n",
        "  #training the model\n",
        "  model.fit(X_train,Y_train)\n",
        "\n",
        "  # Training Score\n",
        "  training  = model.score(X_train,Y_train)\n",
        "  print(\"Training score  =\", training)\n",
        "\n",
        "  try:\n",
        "      # finding the best parameters of the model if any\n",
        "    print(f\"The best parameters found out to be :{model.best_params_} \\nwhere model best score is:  {model.best_score_} \\n\")\n",
        "  except:\n",
        "    pass\n",
        "\n",
        "\n",
        "  #predicting the Test set and evaluting the models\n",
        "\n",
        "  if model == LinearRegression() or model == Lasso() or model == Ridge():\n",
        "    Y_pred = model.predict(X_test)\n",
        "\n",
        "    #finding mean_absolute_error\n",
        "    MAE  = mean_absolute_error(Y_test**2,Y_pred**2)\n",
        "    print(\"MAE :\" , MAE)\n",
        "\n",
        "    #finding mean_squared_error\n",
        "    MSE  = mean_squared_error(Y_test**2,Y_pred**2)\n",
        "    print(\"MSE :\" , MSE)\n",
        "\n",
        "    #finding root mean squared error\n",
        "    RMSE = np.sqrt(MSE)\n",
        "    print(\"RMSE :\" ,RMSE)\n",
        "\n",
        "    #finding the r2 score\n",
        "\n",
        "    r2 = r2_score(Y_test**2,Y_pred**2)\n",
        "    print(\"R2 :\" ,r2)\n",
        "    #finding the adjusted r2 score\n",
        "    adj_r2=1-(1-r2_score(Y_test**2,Y_pred**2))*((X_test.shape[0]-1)/(X_test.shape[0]-X_test.shape[1]-1))\n",
        "    print(\"Adjusted R2 : \",adj_r2,'\\n')\n",
        "\n",
        "  else:\n",
        "    # for tree base models\n",
        "    Y_pred = model.predict(X_test)\n",
        "\n",
        "    #finding mean_absolute_error\n",
        "    MAE  = mean_absolute_error(Y_test,Y_pred)\n",
        "    print(\"MAE :\" , MAE)\n",
        "\n",
        "    #finding mean_squared_error\n",
        "    MSE  = mean_squared_error(Y_test,Y_pred)\n",
        "    print(\"MSE :\" , MSE)\n",
        "\n",
        "    #finding root mean squared error\n",
        "    RMSE = np.sqrt(MSE)\n",
        "    print(\"RMSE :\" ,RMSE)\n",
        "\n",
        "    #finding the r2 score\n",
        "\n",
        "    r2 = r2_score(Y_test,Y_pred)\n",
        "    print(\"R2 :\" ,r2)\n",
        "    #finding the adjusted r2 score\n",
        "    adj_r2=1-(1-r2_score(Y_test,Y_pred))*((X_test.shape[0]-1)/(X_test.shape[0]-X_test.shape[1]-1))\n",
        "    print(\"Adjusted R2 : \",adj_r2,'\\n')\n",
        "\n",
        "\n",
        "  # Here we appending the parameters for all models\n",
        "  mean_absolut_error.append(MAE)\n",
        "  mean_sq_error.append(MSE)\n",
        "  root_mean_sq_error.append(RMSE)\n",
        "  training_score.append(training)\n",
        "  r2_list.append(r2)\n",
        "  adj_r2_list.append(adj_r2)\n",
        "\n",
        "  print('*'*80)\n",
        "  # print the cofficient and intercept of which model have these parameters and else we just pass them\n",
        "  try :\n",
        "    print(\"coefficient \\n\",model.coef_)\n",
        "    print('\\n')\n",
        "    print(\"Intercept  = \" ,model.intercept_)\n",
        "  except:\n",
        "    pass\n",
        "  print('\\n')\n",
        "  print('*'*20, 'ploting the graph of Actual and predicted only with 80 observation', '*'*20)\n",
        "\n",
        "  # ploting the graph of Actual and predicted only with 80 observation for better visualisation which model have these parameters and else we just pass them\n",
        "  try:\n",
        "    # ploting the line graph of actual and predicted values\n",
        "    plt.figure(figsize=(15,7))\n",
        "    plt.plot((Y_pred)[:80])\n",
        "    plt.plot((np.array(Y_test)[:80]))\n",
        "    plt.legend([\"Predicted\",\"Actual\"])\n",
        "    plt.show()\n",
        "  except:\n",
        "    pass"
      ],
      "metadata": {
        "id": "Ss83yDiIo0gy"
      },
      "execution_count": null,
      "outputs": []
    },
    {
      "cell_type": "code",
      "source": [
        "score_metrix(LinearRegression(),X_train,X_test,y_train,y_test)"
      ],
      "metadata": {
        "id": "XF-2cgw7o5ku"
      },
      "execution_count": null,
      "outputs": []
    },
    {
      "cell_type": "markdown",
      "source": [
        "When applying Linear Regression, the model achieved a perfect training score of 1.0, along with near-zero MAE, MSE, and RMSE values, and an R-squared and Adjusted R-squared of 1.0. These results strongly indicate overfitting, as the model has likely memorized the training data and may not generalize well to unseen data. Consequently, the model's predictive accuracy on new data might be poor, despite seemingly excellent performance on the training set."
      ],
      "metadata": {
        "id": "1m2uJ_SWz6u3"
      }
    },
    {
      "cell_type": "markdown",
      "source": [
        "# ML Model 2"
      ],
      "metadata": {
        "id": "wssvWfOdx7YP"
      }
    },
    {
      "cell_type": "markdown",
      "source": [
        "#### 2. Cross- Validation & Hyperparameter Tuning"
      ],
      "metadata": {
        "id": "4qY1EAkEfxKe"
      }
    },
    {
      "cell_type": "code",
      "source": [
        "# ML Model - 1 Implementation with hyperparameter optimization techniques (i.e., GridSearch CV, RandomSearch CV, Bayesian Optimization etc.)\n",
        "lasso = Lasso()\n",
        "parameters = {'alpha': [1e-15,1e-13,1e-10,1e-8,1e-5,1e-4,1e-3,1e-2,1e-1,1,5,10,20,30,40,45,50,55,60,100],'random_state':[10,20,30]}\n",
        "\n",
        "lasso_regressor = GridSearchCV(lasso, parameters, scoring='neg_mean_squared_error', cv=5)\n",
        "lasso_regressor.fit(X_train,y_train)\n",
        "\n",
        "# Fit the Algorithm\n",
        "\n",
        "# Predict on the model"
      ],
      "metadata": {
        "id": "Dy61ujd6fxKe"
      },
      "execution_count": null,
      "outputs": []
    },
    {
      "cell_type": "code",
      "source": [
        "L1 = Lasso() #creating variable\n",
        "parameters = {'alpha': [1e-15,1e-13,1e-10,1e-8,1e-5,1e-4,1e-3,1e-2,1e-1,1,5,10,20,30,40,45,50,55,60,100,0.0014]} #lasso parameters\n",
        "lasso_cv = GridSearchCV(L1, parameters, cv=5) #using grid"
      ],
      "metadata": {
        "id": "dXUSlOaspcXO"
      },
      "execution_count": null,
      "outputs": []
    },
    {
      "cell_type": "code",
      "source": [
        "score_metrix(lasso_cv,X_train,X_test,y_train,y_test)"
      ],
      "metadata": {
        "id": "f99K-tc1phaL"
      },
      "execution_count": null,
      "outputs": []
    },
    {
      "cell_type": "markdown",
      "source": [
        "##### Which hyperparameter optimization technique have you used and why?"
      ],
      "metadata": {
        "id": "PiV4Ypx8fxKe"
      }
    },
    {
      "cell_type": "markdown",
      "source": [
        "\"In Model 2, Lasso Regression achieved a near-perfect training score of 0.9999994790861535, with the best hyperparameters identified as {'alpha': 5}, resulting in a best score of 0.9999993172286091 during cross-validation. The model exhibited low MAE, MSE, and RMSE values (0.059650027000356036, 0.009718300899597604, and 0.09858144297786274, respectively), alongside exceptionally high R-squared and Adjusted R-squared values (0.9999991366040252 and 0.9999990286795283, respectively). While these metrics suggest a strong fit, it's important to remain cautious about potential overfitting due to the near-perfect training score and high R-squared values."
      ],
      "metadata": {
        "id": "negyGRa7fxKf"
      }
    },
    {
      "cell_type": "markdown",
      "source": [
        "##### Have you seen any improvement? Note down the improvement with updates Evaluation metric Score Chart."
      ],
      "metadata": {
        "id": "TfvqoZmBfxKf"
      }
    },
    {
      "cell_type": "markdown",
      "source": [
        "Answer Here."
      ],
      "metadata": {
        "id": "OaLui8CcfxKf"
      }
    },
    {
      "cell_type": "markdown",
      "source": [
        "# ML Model 3"
      ],
      "metadata": {
        "id": "KzHCWnEFyB5v"
      }
    },
    {
      "cell_type": "markdown",
      "source": [
        "# XGBoost Regression"
      ],
      "metadata": {
        "id": "yNj52ONFwlHI"
      }
    },
    {
      "cell_type": "code",
      "source": [
        "params = {'learning_rate':[0.5,1,1.5,2],'n_estimators':[80,100,150],'max_depth':[15,20,30]}\n",
        "xgb_grid_search= GridSearchCV(XGBRegressor(),param_grid=params,)\n",
        "score_metrix(xgb_grid_search,X_train,X_test,y_train,y_test)"
      ],
      "metadata": {
        "id": "vRAAkTVrwQqR"
      },
      "execution_count": null,
      "outputs": []
    },
    {
      "cell_type": "markdown",
      "source": [
        "Model 3, utilizing XGBoost Regression with optimized hyperparameters, achieved a near-perfect training score while demonstrating strong predictive performance on the test set, as evidenced by a high R-squared value of 0.9843"
      ],
      "metadata": {
        "id": "YnvVTiIxBL-C"
      }
    },
    {
      "cell_type": "markdown",
      "source": [
        "# ML Model 4"
      ],
      "metadata": {
        "id": "XfVk_szZy_jB"
      }
    },
    {
      "cell_type": "markdown",
      "source": [
        "# KNN Regressor"
      ],
      "metadata": {
        "id": "40R-2AHT3Vhg"
      }
    },
    {
      "cell_type": "code",
      "source": [
        "knn = KNeighborsRegressor()\n",
        "score_metrix(knn,X_train,X_test,y_train,y_test)"
      ],
      "metadata": {
        "id": "BpyGTnM5y80w"
      },
      "execution_count": null,
      "outputs": []
    },
    {
      "cell_type": "markdown",
      "source": [
        "The KNN Regressor model achieved a near-perfect training score of 0.9943 and demonstrated excellent predictive accuracy on the test set, achieving an R-squared value of 0.9967 and a low MAE of 4.28."
      ],
      "metadata": {
        "id": "OzUgXWjk3eg_"
      }
    },
    {
      "cell_type": "markdown",
      "source": [
        "# ML Model 5  \n",
        "Using Random Forest Regressor"
      ],
      "metadata": {
        "id": "CnQWEJLJ01AP"
      }
    },
    {
      "cell_type": "code",
      "source": [
        "# parameters for Random forest\n",
        "param_grid = {\"n_estimators\":[50,100,150],\n",
        "              'max_depth' : [10,15,20,25,'none'],\n",
        "              'min_samples_split': [10,50,100],\n",
        "              'max_features' :[24,35,40,49]}"
      ],
      "metadata": {
        "id": "W5bBrfNIzfDY"
      },
      "execution_count": null,
      "outputs": []
    },
    {
      "cell_type": "code",
      "source": [
        "# Using Grid SearchCV\n",
        "Ranom_forest_Grid_search = GridSearchCV(RandomForestRegressor(),param_grid=param_grid,n_jobs=-1,verbose=2)\n",
        "score_metrix(Ranom_forest_Grid_search,X_train,X_test,y_train,y_test)"
      ],
      "metadata": {
        "id": "rFI7yNpIzkDa"
      },
      "execution_count": null,
      "outputs": []
    },
    {
      "cell_type": "markdown",
      "source": [
        "The Random Forest Regressor, with optimized hyperparameters, achieved a near-perfect training score and demonstrated exceptional predictive accuracy on the test set, evidenced by a high R-squared value of 0.9971 and a low MAE of 3.21.\""
      ],
      "metadata": {
        "id": "bJaQSw5345XF"
      }
    },
    {
      "cell_type": "markdown",
      "source": [
        "# **Conclusion**"
      ],
      "metadata": {
        "id": "gCX9965dhzqZ"
      }
    },
    {
      "cell_type": "markdown",
      "source": [
        "This project aimed to predict Yes Bank's stock prices using machine learning models, leveraging historical data. Several regression models were trained and evaluated, including Linear Regression, Lasso Regression, XGBoost Regression, KNN Regressor, and Random Forest Regressor.\n",
        "\n",
        "Overall, this project demonstrates the potential of machine learning in accurately predicting Yes Bank's stock prices. Further research and model refinements could significantly enhance the predictive capabilities and facilitate more effective investment strategies."
      ],
      "metadata": {
        "id": "Fjb1IsQkh3yE"
      }
    },
    {
      "cell_type": "markdown",
      "source": [
        "# Note\n",
        "\n",
        " It is important to remember that stock market predictions are inherently uncertain and carry inherent risks. These models are intended for informational purposes only and should not be considered as financial advice. Any investment decisions should be made based on thorough research and consultation with qualified financial professionals."
      ],
      "metadata": {
        "id": "85tVYR6Z5bx7"
      }
    },
    {
      "cell_type": "markdown",
      "source": [
        "### ***Hurrah! You have successfully completed your Machine Learning Capstone Project !!!***"
      ],
      "metadata": {
        "id": "gIfDvo9L0UH2"
      }
    }
  ]
}